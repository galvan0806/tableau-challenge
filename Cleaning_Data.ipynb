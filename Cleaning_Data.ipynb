{
 "cells": [
  {
   "cell_type": "code",
   "execution_count": 33,
   "metadata": {},
   "outputs": [],
   "source": [
    "import pandas as pd\n",
    "from itertools import cycle"
   ]
  },
  {
   "cell_type": "code",
   "execution_count": 34,
   "metadata": {},
   "outputs": [],
   "source": [
    "# July 2020\n",
    "df1 = pd.read_csv('Resources/JC-202007-citibike-tripdata.csv')\n",
    "july = cycle(['July 2024'])\n",
    "df1['Month'] = [next(july) for m in range(len(df1))]"
   ]
  },
  {
   "cell_type": "code",
   "execution_count": 35,
   "metadata": {},
   "outputs": [],
   "source": [
    "# August 2020\n",
    "df2 = pd.read_csv('Resources/JC-202008-citibike-tripdata.csv')\n",
    "august = cycle(['August 2024'])\n",
    "df2['Month'] = [next(august) for o in range(len(df2))]"
   ]
  },
  {
   "cell_type": "code",
   "execution_count": 36,
   "metadata": {},
   "outputs": [],
   "source": [
    "# September 2020\n",
    "df3 = pd.read_csv('Resources/JC-202009-citibike-tripdata.csv')\n",
    "september = cycle(['September 2024'])\n",
    "df3['Month'] = [next(september) for n in range(len(df3))]"
   ]
  },
  {
   "cell_type": "code",
   "execution_count": 37,
   "metadata": {},
   "outputs": [],
   "source": [
    "# Merge and export to csv\n",
    "total_merged_data = pd.concat([df1,df2,df3], ignore_index=True)\n",
    "total_merged_data.to_csv('Resources/total_merged_data.csv', index=False)"
   ]
  }
 ],
 "metadata": {
  "kernelspec": {
   "display_name": "base",
   "language": "python",
   "name": "python3"
  },
  "language_info": {
   "codemirror_mode": {
    "name": "ipython",
    "version": 3
   },
   "file_extension": ".py",
   "mimetype": "text/x-python",
   "name": "python",
   "nbconvert_exporter": "python",
   "pygments_lexer": "ipython3",
   "version": "3.11.7"
  }
 },
 "nbformat": 4,
 "nbformat_minor": 4
}
